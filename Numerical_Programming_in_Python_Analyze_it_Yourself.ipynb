{
  "nbformat": 4,
  "nbformat_minor": 0,
  "metadata": {
    "colab": {
      "provenance": [],
      "include_colab_link": true
    },
    "kernelspec": {
      "name": "python3",
      "display_name": "Python 3"
    },
    "language_info": {
      "name": "python"
    }
  },
  "cells": [
    {
      "cell_type": "markdown",
      "metadata": {
        "id": "view-in-github",
        "colab_type": "text"
      },
      "source": [
        "<a href=\"https://colab.research.google.com/github/abhishek-kakde/Linkedin_web_scrapping_EDA/blob/main/Numerical_Programming_in_Python_Analyze_it_Yourself.ipynb\" target=\"_parent\"><img src=\"https://colab.research.google.com/assets/colab-badge.svg\" alt=\"Open In Colab\"/></a>"
      ]
    },
    {
      "cell_type": "markdown",
      "source": [
        "## **Problem Statement: Navigating the Data Science Job Landscape**\n",
        "\n",
        "🚀 Unleash your creativity in crafting a solution that taps into the heartbeat of the data science job market! Envision an ingenious project that seamlessly wields cutting-edge web scraping techniques and illuminating data analysis.\n",
        "\n",
        "🔍 Your mission? To engineer a tool that effortlessly gathers job listings from a multitude of online sources, extracting pivotal nuggets such as job descriptions, qualifications, locations, and salaries.\n",
        "\n",
        "🧩 However, the true puzzle lies in deciphering this trove of data. Can your solution discern patterns that spotlight the most coveted skills? Are there threads connecting job types to compensation packages? How might it predict shifts in industry demand?\n",
        "\n",
        "🎯 The core objectives of this challenge are as follows:\n",
        "\n",
        "1. Web Scraping Mastery: Forge an adaptable and potent web scraping mechanism. Your creation should adeptly harvest data science job postings from a diverse array of online platforms. Be ready to navigate evolving website structures and process hefty data loads.\n",
        "\n",
        "2. Data Symphony: Skillfully distill vital insights from the harvested job listings. Extract and cleanse critical information like job titles, company names, descriptions, qualifications, salaries, locations, and deadlines. Think data refinement and organization.\n",
        "\n",
        "3. Market Wizardry: Conjure up analytical tools that conjure meaningful revelations from the gathered data. Dive into the abyss of job demand trends, geographic distribution, salary variations tied to experience and location, favored qualifications, and emerging skill demands.\n",
        "\n",
        "4. Visual Magic: Weave a tapestry of visualization magic. Design captivating charts, graphs, and visual representations that paint a crystal-clear picture of the analyzed data. Make these visuals the compass that guides users through job market intricacies.\n",
        "\n",
        "🌐 While the web scraping universe is yours to explore, consider these platforms as potential stomping grounds:\n",
        "\n",
        "* LinkedIn Jobs\n",
        "* Indeed\n",
        "* Naukri\n",
        "* Glassdoor\n",
        "* AngelList\n",
        "\n",
        "🎈 Your solution should not only decode the data science job realm but also empower professionals, job seekers, and recruiters to harness the dynamic shifts of the industry. The path is open, the challenge beckons – are you ready to embark on this exciting journey?\n",
        "\n",
        "\n",
        "\n",
        "\n"
      ],
      "metadata": {
        "id": "WC4RKKoko7qr"
      }
    },
    {
      "cell_type": "markdown",
      "source": [
        "**Below is the link for the jupyter notebook which is used for the web scrapping**"
      ],
      "metadata": {
        "id": "ccTgqNK9POtM"
      }
    },
    {
      "cell_type": "markdown",
      "source": [
        "https://drive.google.com/file/d/1QRPbUWMAatuMpPpMP9aujTk_khASi6Qe/view?usp=sharing"
      ],
      "metadata": {
        "id": "IUMbh0x3PYEj"
      }
    },
    {
      "cell_type": "markdown",
      "source": [
        "**Below is the link for the csv file which we exported using above code**"
      ],
      "metadata": {
        "id": "IOZ2H-iBPkPU"
      }
    },
    {
      "cell_type": "markdown",
      "source": [
        "https://drive.google.com/file/d/1j3kD1GxFNouYkGXxu5pvwR7mWJnuUKz-/view?usp=drive_link"
      ],
      "metadata": {
        "id": "80GcMzp8PlRs"
      }
    },
    {
      "cell_type": "markdown",
      "source": [
        "**We have scrapped the data from linked in using local as it requires chrome driver which cant be accessed using  Google collab. After scrapping we have exported the csv file. In this collab notebook we will use the exported csv file for data visualization and EDA of linkedin Jobs.**"
      ],
      "metadata": {
        "id": "oLK6gEQ5OqEM"
      }
    },
    {
      "cell_type": "code",
      "source": [
        "   from google.colab import drive\n",
        "\n",
        "   drive.mount('/content/drive')"
      ],
      "metadata": {
        "colab": {
          "base_uri": "https://localhost:8080/"
        },
        "id": "UFksLtWANteb",
        "outputId": "9391d7a1-bbe4-4af5-9171-e23adf276688"
      },
      "execution_count": null,
      "outputs": [
        {
          "output_type": "stream",
          "name": "stdout",
          "text": [
            "Drive already mounted at /content/drive; to attempt to forcibly remount, call drive.mount(\"/content/drive\", force_remount=True).\n"
          ]
        }
      ]
    },
    {
      "cell_type": "markdown",
      "source": [
        "**Importing libraries**"
      ],
      "metadata": {
        "id": "F0macuPojJJo"
      }
    },
    {
      "cell_type": "code",
      "source": [
        "import pandas as pd\n",
        "import numpy as np\n"
      ],
      "metadata": {
        "id": "ZLHwvKnQI8dF"
      },
      "execution_count": null,
      "outputs": []
    },
    {
      "cell_type": "markdown",
      "source": [
        "**Reading csv file**"
      ],
      "metadata": {
        "id": "BzxNTa8yjOcW"
      }
    },
    {
      "cell_type": "code",
      "execution_count": null,
      "metadata": {
        "id": "aqcwJ-eXozg2"
      },
      "outputs": [],
      "source": [
        "df = pd.read_csv('/content/drive/MyDrive/AlmaBetter assignments/Numerical Python Mid_course Assessment/linkedin_jobs.csv')"
      ]
    },
    {
      "cell_type": "markdown",
      "source": [
        "**Dropping unncessary column from the dataframe**"
      ],
      "metadata": {
        "id": "JdY39OEdjSzo"
      }
    },
    {
      "cell_type": "code",
      "source": [
        "df = df.drop('Unnamed: 0',axis =1)"
      ],
      "metadata": {
        "id": "f-NtMQTvOQlw"
      },
      "execution_count": null,
      "outputs": []
    },
    {
      "cell_type": "markdown",
      "source": [
        "**Displaying first rows of the data frame**"
      ],
      "metadata": {
        "id": "DSsMh_5sjZhX"
      }
    },
    {
      "cell_type": "code",
      "source": [
        "df.head()"
      ],
      "metadata": {
        "colab": {
          "base_uri": "https://localhost:8080/",
          "height": 206
        },
        "id": "f9CCKE_zI30X",
        "outputId": "030c7dce-870a-4544-cbcc-d682161b67be"
      },
      "execution_count": null,
      "outputs": [
        {
          "output_type": "execute_result",
          "data": {
            "text/plain": [
              "            company_name                                          job_title  \\\n",
              "0               USEReady                                        ML Engineer   \n",
              "1  THire Global Services  Python &amp; Machine Learning Engineer - Panda...   \n",
              "2              56 Secure                          Machine Learning Engineer   \n",
              "3                  Kaara                                    AI/ML Developer   \n",
              "4                  BitGo                                     Data Scientist   \n",
              "\n",
              "                      location JOB_PORTAL  \n",
              "0  Bengaluru, Karnataka, India   LINKEDIN  \n",
              "1  Bengaluru, Karnataka, India   LINKEDIN  \n",
              "2  Bengaluru, Karnataka, India   LINKEDIN  \n",
              "3  Hyderabad, Telangana, India   LINKEDIN  \n",
              "4  Bengaluru, Karnataka, India   LINKEDIN  "
            ],
            "text/html": [
              "\n",
              "  <div id=\"df-7bbc995c-b7b9-4685-b41b-852ecdf25ff2\" class=\"colab-df-container\">\n",
              "    <div>\n",
              "<style scoped>\n",
              "    .dataframe tbody tr th:only-of-type {\n",
              "        vertical-align: middle;\n",
              "    }\n",
              "\n",
              "    .dataframe tbody tr th {\n",
              "        vertical-align: top;\n",
              "    }\n",
              "\n",
              "    .dataframe thead th {\n",
              "        text-align: right;\n",
              "    }\n",
              "</style>\n",
              "<table border=\"1\" class=\"dataframe\">\n",
              "  <thead>\n",
              "    <tr style=\"text-align: right;\">\n",
              "      <th></th>\n",
              "      <th>company_name</th>\n",
              "      <th>job_title</th>\n",
              "      <th>location</th>\n",
              "      <th>JOB_PORTAL</th>\n",
              "    </tr>\n",
              "  </thead>\n",
              "  <tbody>\n",
              "    <tr>\n",
              "      <th>0</th>\n",
              "      <td>USEReady</td>\n",
              "      <td>ML Engineer</td>\n",
              "      <td>Bengaluru, Karnataka, India</td>\n",
              "      <td>LINKEDIN</td>\n",
              "    </tr>\n",
              "    <tr>\n",
              "      <th>1</th>\n",
              "      <td>THire Global Services</td>\n",
              "      <td>Python &amp;amp; Machine Learning Engineer - Panda...</td>\n",
              "      <td>Bengaluru, Karnataka, India</td>\n",
              "      <td>LINKEDIN</td>\n",
              "    </tr>\n",
              "    <tr>\n",
              "      <th>2</th>\n",
              "      <td>56 Secure</td>\n",
              "      <td>Machine Learning Engineer</td>\n",
              "      <td>Bengaluru, Karnataka, India</td>\n",
              "      <td>LINKEDIN</td>\n",
              "    </tr>\n",
              "    <tr>\n",
              "      <th>3</th>\n",
              "      <td>Kaara</td>\n",
              "      <td>AI/ML Developer</td>\n",
              "      <td>Hyderabad, Telangana, India</td>\n",
              "      <td>LINKEDIN</td>\n",
              "    </tr>\n",
              "    <tr>\n",
              "      <th>4</th>\n",
              "      <td>BitGo</td>\n",
              "      <td>Data Scientist</td>\n",
              "      <td>Bengaluru, Karnataka, India</td>\n",
              "      <td>LINKEDIN</td>\n",
              "    </tr>\n",
              "  </tbody>\n",
              "</table>\n",
              "</div>\n",
              "    <div class=\"colab-df-buttons\">\n",
              "\n",
              "  <div class=\"colab-df-container\">\n",
              "    <button class=\"colab-df-convert\" onclick=\"convertToInteractive('df-7bbc995c-b7b9-4685-b41b-852ecdf25ff2')\"\n",
              "            title=\"Convert this dataframe to an interactive table.\"\n",
              "            style=\"display:none;\">\n",
              "\n",
              "  <svg xmlns=\"http://www.w3.org/2000/svg\" height=\"24px\" viewBox=\"0 -960 960 960\">\n",
              "    <path d=\"M120-120v-720h720v720H120Zm60-500h600v-160H180v160Zm220 220h160v-160H400v160Zm0 220h160v-160H400v160ZM180-400h160v-160H180v160Zm440 0h160v-160H620v160ZM180-180h160v-160H180v160Zm440 0h160v-160H620v160Z\"/>\n",
              "  </svg>\n",
              "    </button>\n",
              "\n",
              "  <style>\n",
              "    .colab-df-container {\n",
              "      display:flex;\n",
              "      gap: 12px;\n",
              "    }\n",
              "\n",
              "    .colab-df-convert {\n",
              "      background-color: #E8F0FE;\n",
              "      border: none;\n",
              "      border-radius: 50%;\n",
              "      cursor: pointer;\n",
              "      display: none;\n",
              "      fill: #1967D2;\n",
              "      height: 32px;\n",
              "      padding: 0 0 0 0;\n",
              "      width: 32px;\n",
              "    }\n",
              "\n",
              "    .colab-df-convert:hover {\n",
              "      background-color: #E2EBFA;\n",
              "      box-shadow: 0px 1px 2px rgba(60, 64, 67, 0.3), 0px 1px 3px 1px rgba(60, 64, 67, 0.15);\n",
              "      fill: #174EA6;\n",
              "    }\n",
              "\n",
              "    .colab-df-buttons div {\n",
              "      margin-bottom: 4px;\n",
              "    }\n",
              "\n",
              "    [theme=dark] .colab-df-convert {\n",
              "      background-color: #3B4455;\n",
              "      fill: #D2E3FC;\n",
              "    }\n",
              "\n",
              "    [theme=dark] .colab-df-convert:hover {\n",
              "      background-color: #434B5C;\n",
              "      box-shadow: 0px 1px 3px 1px rgba(0, 0, 0, 0.15);\n",
              "      filter: drop-shadow(0px 1px 2px rgba(0, 0, 0, 0.3));\n",
              "      fill: #FFFFFF;\n",
              "    }\n",
              "  </style>\n",
              "\n",
              "    <script>\n",
              "      const buttonEl =\n",
              "        document.querySelector('#df-7bbc995c-b7b9-4685-b41b-852ecdf25ff2 button.colab-df-convert');\n",
              "      buttonEl.style.display =\n",
              "        google.colab.kernel.accessAllowed ? 'block' : 'none';\n",
              "\n",
              "      async function convertToInteractive(key) {\n",
              "        const element = document.querySelector('#df-7bbc995c-b7b9-4685-b41b-852ecdf25ff2');\n",
              "        const dataTable =\n",
              "          await google.colab.kernel.invokeFunction('convertToInteractive',\n",
              "                                                    [key], {});\n",
              "        if (!dataTable) return;\n",
              "\n",
              "        const docLinkHtml = 'Like what you see? Visit the ' +\n",
              "          '<a target=\"_blank\" href=https://colab.research.google.com/notebooks/data_table.ipynb>data table notebook</a>'\n",
              "          + ' to learn more about interactive tables.';\n",
              "        element.innerHTML = '';\n",
              "        dataTable['output_type'] = 'display_data';\n",
              "        await google.colab.output.renderOutput(dataTable, element);\n",
              "        const docLink = document.createElement('div');\n",
              "        docLink.innerHTML = docLinkHtml;\n",
              "        element.appendChild(docLink);\n",
              "      }\n",
              "    </script>\n",
              "  </div>\n",
              "\n",
              "\n",
              "<div id=\"df-b4dd10af-ab6a-4314-b44f-fec4ab3e9503\">\n",
              "  <button class=\"colab-df-quickchart\" onclick=\"quickchart('df-b4dd10af-ab6a-4314-b44f-fec4ab3e9503')\"\n",
              "            title=\"Suggest charts\"\n",
              "            style=\"display:none;\">\n",
              "\n",
              "<svg xmlns=\"http://www.w3.org/2000/svg\" height=\"24px\"viewBox=\"0 0 24 24\"\n",
              "     width=\"24px\">\n",
              "    <g>\n",
              "        <path d=\"M19 3H5c-1.1 0-2 .9-2 2v14c0 1.1.9 2 2 2h14c1.1 0 2-.9 2-2V5c0-1.1-.9-2-2-2zM9 17H7v-7h2v7zm4 0h-2V7h2v10zm4 0h-2v-4h2v4z\"/>\n",
              "    </g>\n",
              "</svg>\n",
              "  </button>\n",
              "\n",
              "<style>\n",
              "  .colab-df-quickchart {\n",
              "      --bg-color: #E8F0FE;\n",
              "      --fill-color: #1967D2;\n",
              "      --hover-bg-color: #E2EBFA;\n",
              "      --hover-fill-color: #174EA6;\n",
              "      --disabled-fill-color: #AAA;\n",
              "      --disabled-bg-color: #DDD;\n",
              "  }\n",
              "\n",
              "  [theme=dark] .colab-df-quickchart {\n",
              "      --bg-color: #3B4455;\n",
              "      --fill-color: #D2E3FC;\n",
              "      --hover-bg-color: #434B5C;\n",
              "      --hover-fill-color: #FFFFFF;\n",
              "      --disabled-bg-color: #3B4455;\n",
              "      --disabled-fill-color: #666;\n",
              "  }\n",
              "\n",
              "  .colab-df-quickchart {\n",
              "    background-color: var(--bg-color);\n",
              "    border: none;\n",
              "    border-radius: 50%;\n",
              "    cursor: pointer;\n",
              "    display: none;\n",
              "    fill: var(--fill-color);\n",
              "    height: 32px;\n",
              "    padding: 0;\n",
              "    width: 32px;\n",
              "  }\n",
              "\n",
              "  .colab-df-quickchart:hover {\n",
              "    background-color: var(--hover-bg-color);\n",
              "    box-shadow: 0 1px 2px rgba(60, 64, 67, 0.3), 0 1px 3px 1px rgba(60, 64, 67, 0.15);\n",
              "    fill: var(--button-hover-fill-color);\n",
              "  }\n",
              "\n",
              "  .colab-df-quickchart-complete:disabled,\n",
              "  .colab-df-quickchart-complete:disabled:hover {\n",
              "    background-color: var(--disabled-bg-color);\n",
              "    fill: var(--disabled-fill-color);\n",
              "    box-shadow: none;\n",
              "  }\n",
              "\n",
              "  .colab-df-spinner {\n",
              "    border: 2px solid var(--fill-color);\n",
              "    border-color: transparent;\n",
              "    border-bottom-color: var(--fill-color);\n",
              "    animation:\n",
              "      spin 1s steps(1) infinite;\n",
              "  }\n",
              "\n",
              "  @keyframes spin {\n",
              "    0% {\n",
              "      border-color: transparent;\n",
              "      border-bottom-color: var(--fill-color);\n",
              "      border-left-color: var(--fill-color);\n",
              "    }\n",
              "    20% {\n",
              "      border-color: transparent;\n",
              "      border-left-color: var(--fill-color);\n",
              "      border-top-color: var(--fill-color);\n",
              "    }\n",
              "    30% {\n",
              "      border-color: transparent;\n",
              "      border-left-color: var(--fill-color);\n",
              "      border-top-color: var(--fill-color);\n",
              "      border-right-color: var(--fill-color);\n",
              "    }\n",
              "    40% {\n",
              "      border-color: transparent;\n",
              "      border-right-color: var(--fill-color);\n",
              "      border-top-color: var(--fill-color);\n",
              "    }\n",
              "    60% {\n",
              "      border-color: transparent;\n",
              "      border-right-color: var(--fill-color);\n",
              "    }\n",
              "    80% {\n",
              "      border-color: transparent;\n",
              "      border-right-color: var(--fill-color);\n",
              "      border-bottom-color: var(--fill-color);\n",
              "    }\n",
              "    90% {\n",
              "      border-color: transparent;\n",
              "      border-bottom-color: var(--fill-color);\n",
              "    }\n",
              "  }\n",
              "</style>\n",
              "\n",
              "  <script>\n",
              "    async function quickchart(key) {\n",
              "      const quickchartButtonEl =\n",
              "        document.querySelector('#' + key + ' button');\n",
              "      quickchartButtonEl.disabled = true;  // To prevent multiple clicks.\n",
              "      quickchartButtonEl.classList.add('colab-df-spinner');\n",
              "      try {\n",
              "        const charts = await google.colab.kernel.invokeFunction(\n",
              "            'suggestCharts', [key], {});\n",
              "      } catch (error) {\n",
              "        console.error('Error during call to suggestCharts:', error);\n",
              "      }\n",
              "      quickchartButtonEl.classList.remove('colab-df-spinner');\n",
              "      quickchartButtonEl.classList.add('colab-df-quickchart-complete');\n",
              "    }\n",
              "    (() => {\n",
              "      let quickchartButtonEl =\n",
              "        document.querySelector('#df-b4dd10af-ab6a-4314-b44f-fec4ab3e9503 button');\n",
              "      quickchartButtonEl.style.display =\n",
              "        google.colab.kernel.accessAllowed ? 'block' : 'none';\n",
              "    })();\n",
              "  </script>\n",
              "</div>\n",
              "\n",
              "    </div>\n",
              "  </div>\n"
            ]
          },
          "metadata": {},
          "execution_count": 25
        }
      ]
    },
    {
      "cell_type": "markdown",
      "source": [
        "**Displaying last rows of the data frame**"
      ],
      "metadata": {
        "id": "akpQK5qIjgJA"
      }
    },
    {
      "cell_type": "code",
      "source": [
        "df.tail()"
      ],
      "metadata": {
        "colab": {
          "base_uri": "https://localhost:8080/",
          "height": 275
        },
        "id": "DyE9AwHUJXpF",
        "outputId": "bd6ceb78-96c7-469e-f25f-f14de6d600b2"
      },
      "execution_count": null,
      "outputs": [
        {
          "output_type": "execute_result",
          "data": {
            "text/plain": [
              "                           company_name  \\\n",
              "480                             Genpact   \n",
              "481  Arrise Solutions (India) Pvt. Ltd.   \n",
              "482                             Alithya   \n",
              "483                             Genpact   \n",
              "484                  Accenture in India   \n",
              "\n",
              "                                             job_title  \\\n",
              "480  Lead Consultant - Oracle fusion Functional / T...   \n",
              "481         Full Stack Engineer-Video Streaming/NodeJS   \n",
              "482  Oracle Cloud EPM Offshore Data Integration Con...   \n",
              "483  Principal Consultant-Senior Snowflake Develope...   \n",
              "484                    IBM Maximo Application Designer   \n",
              "\n",
              "                        location JOB_PORTAL  \n",
              "480  Hyderabad, Telangana, India   LINKEDIN  \n",
              "481  Hyderabad, Telangana, India   LINKEDIN  \n",
              "482  Hyderabad, Telangana, India   LINKEDIN  \n",
              "483  Hyderabad, Telangana, India   LINKEDIN  \n",
              "484  Bengaluru, Karnataka, India   LINKEDIN  "
            ],
            "text/html": [
              "\n",
              "  <div id=\"df-aff12735-0a52-474f-8c29-f6e3cb3eb40c\" class=\"colab-df-container\">\n",
              "    <div>\n",
              "<style scoped>\n",
              "    .dataframe tbody tr th:only-of-type {\n",
              "        vertical-align: middle;\n",
              "    }\n",
              "\n",
              "    .dataframe tbody tr th {\n",
              "        vertical-align: top;\n",
              "    }\n",
              "\n",
              "    .dataframe thead th {\n",
              "        text-align: right;\n",
              "    }\n",
              "</style>\n",
              "<table border=\"1\" class=\"dataframe\">\n",
              "  <thead>\n",
              "    <tr style=\"text-align: right;\">\n",
              "      <th></th>\n",
              "      <th>company_name</th>\n",
              "      <th>job_title</th>\n",
              "      <th>location</th>\n",
              "      <th>JOB_PORTAL</th>\n",
              "    </tr>\n",
              "  </thead>\n",
              "  <tbody>\n",
              "    <tr>\n",
              "      <th>480</th>\n",
              "      <td>Genpact</td>\n",
              "      <td>Lead Consultant - Oracle fusion Functional / T...</td>\n",
              "      <td>Hyderabad, Telangana, India</td>\n",
              "      <td>LINKEDIN</td>\n",
              "    </tr>\n",
              "    <tr>\n",
              "      <th>481</th>\n",
              "      <td>Arrise Solutions (India) Pvt. Ltd.</td>\n",
              "      <td>Full Stack Engineer-Video Streaming/NodeJS</td>\n",
              "      <td>Hyderabad, Telangana, India</td>\n",
              "      <td>LINKEDIN</td>\n",
              "    </tr>\n",
              "    <tr>\n",
              "      <th>482</th>\n",
              "      <td>Alithya</td>\n",
              "      <td>Oracle Cloud EPM Offshore Data Integration Con...</td>\n",
              "      <td>Hyderabad, Telangana, India</td>\n",
              "      <td>LINKEDIN</td>\n",
              "    </tr>\n",
              "    <tr>\n",
              "      <th>483</th>\n",
              "      <td>Genpact</td>\n",
              "      <td>Principal Consultant-Senior Snowflake Develope...</td>\n",
              "      <td>Hyderabad, Telangana, India</td>\n",
              "      <td>LINKEDIN</td>\n",
              "    </tr>\n",
              "    <tr>\n",
              "      <th>484</th>\n",
              "      <td>Accenture in India</td>\n",
              "      <td>IBM Maximo Application Designer</td>\n",
              "      <td>Bengaluru, Karnataka, India</td>\n",
              "      <td>LINKEDIN</td>\n",
              "    </tr>\n",
              "  </tbody>\n",
              "</table>\n",
              "</div>\n",
              "    <div class=\"colab-df-buttons\">\n",
              "\n",
              "  <div class=\"colab-df-container\">\n",
              "    <button class=\"colab-df-convert\" onclick=\"convertToInteractive('df-aff12735-0a52-474f-8c29-f6e3cb3eb40c')\"\n",
              "            title=\"Convert this dataframe to an interactive table.\"\n",
              "            style=\"display:none;\">\n",
              "\n",
              "  <svg xmlns=\"http://www.w3.org/2000/svg\" height=\"24px\" viewBox=\"0 -960 960 960\">\n",
              "    <path d=\"M120-120v-720h720v720H120Zm60-500h600v-160H180v160Zm220 220h160v-160H400v160Zm0 220h160v-160H400v160ZM180-400h160v-160H180v160Zm440 0h160v-160H620v160ZM180-180h160v-160H180v160Zm440 0h160v-160H620v160Z\"/>\n",
              "  </svg>\n",
              "    </button>\n",
              "\n",
              "  <style>\n",
              "    .colab-df-container {\n",
              "      display:flex;\n",
              "      gap: 12px;\n",
              "    }\n",
              "\n",
              "    .colab-df-convert {\n",
              "      background-color: #E8F0FE;\n",
              "      border: none;\n",
              "      border-radius: 50%;\n",
              "      cursor: pointer;\n",
              "      display: none;\n",
              "      fill: #1967D2;\n",
              "      height: 32px;\n",
              "      padding: 0 0 0 0;\n",
              "      width: 32px;\n",
              "    }\n",
              "\n",
              "    .colab-df-convert:hover {\n",
              "      background-color: #E2EBFA;\n",
              "      box-shadow: 0px 1px 2px rgba(60, 64, 67, 0.3), 0px 1px 3px 1px rgba(60, 64, 67, 0.15);\n",
              "      fill: #174EA6;\n",
              "    }\n",
              "\n",
              "    .colab-df-buttons div {\n",
              "      margin-bottom: 4px;\n",
              "    }\n",
              "\n",
              "    [theme=dark] .colab-df-convert {\n",
              "      background-color: #3B4455;\n",
              "      fill: #D2E3FC;\n",
              "    }\n",
              "\n",
              "    [theme=dark] .colab-df-convert:hover {\n",
              "      background-color: #434B5C;\n",
              "      box-shadow: 0px 1px 3px 1px rgba(0, 0, 0, 0.15);\n",
              "      filter: drop-shadow(0px 1px 2px rgba(0, 0, 0, 0.3));\n",
              "      fill: #FFFFFF;\n",
              "    }\n",
              "  </style>\n",
              "\n",
              "    <script>\n",
              "      const buttonEl =\n",
              "        document.querySelector('#df-aff12735-0a52-474f-8c29-f6e3cb3eb40c button.colab-df-convert');\n",
              "      buttonEl.style.display =\n",
              "        google.colab.kernel.accessAllowed ? 'block' : 'none';\n",
              "\n",
              "      async function convertToInteractive(key) {\n",
              "        const element = document.querySelector('#df-aff12735-0a52-474f-8c29-f6e3cb3eb40c');\n",
              "        const dataTable =\n",
              "          await google.colab.kernel.invokeFunction('convertToInteractive',\n",
              "                                                    [key], {});\n",
              "        if (!dataTable) return;\n",
              "\n",
              "        const docLinkHtml = 'Like what you see? Visit the ' +\n",
              "          '<a target=\"_blank\" href=https://colab.research.google.com/notebooks/data_table.ipynb>data table notebook</a>'\n",
              "          + ' to learn more about interactive tables.';\n",
              "        element.innerHTML = '';\n",
              "        dataTable['output_type'] = 'display_data';\n",
              "        await google.colab.output.renderOutput(dataTable, element);\n",
              "        const docLink = document.createElement('div');\n",
              "        docLink.innerHTML = docLinkHtml;\n",
              "        element.appendChild(docLink);\n",
              "      }\n",
              "    </script>\n",
              "  </div>\n",
              "\n",
              "\n",
              "<div id=\"df-adda6c90-403e-45b0-b9dd-ed9a5355e367\">\n",
              "  <button class=\"colab-df-quickchart\" onclick=\"quickchart('df-adda6c90-403e-45b0-b9dd-ed9a5355e367')\"\n",
              "            title=\"Suggest charts\"\n",
              "            style=\"display:none;\">\n",
              "\n",
              "<svg xmlns=\"http://www.w3.org/2000/svg\" height=\"24px\"viewBox=\"0 0 24 24\"\n",
              "     width=\"24px\">\n",
              "    <g>\n",
              "        <path d=\"M19 3H5c-1.1 0-2 .9-2 2v14c0 1.1.9 2 2 2h14c1.1 0 2-.9 2-2V5c0-1.1-.9-2-2-2zM9 17H7v-7h2v7zm4 0h-2V7h2v10zm4 0h-2v-4h2v4z\"/>\n",
              "    </g>\n",
              "</svg>\n",
              "  </button>\n",
              "\n",
              "<style>\n",
              "  .colab-df-quickchart {\n",
              "      --bg-color: #E8F0FE;\n",
              "      --fill-color: #1967D2;\n",
              "      --hover-bg-color: #E2EBFA;\n",
              "      --hover-fill-color: #174EA6;\n",
              "      --disabled-fill-color: #AAA;\n",
              "      --disabled-bg-color: #DDD;\n",
              "  }\n",
              "\n",
              "  [theme=dark] .colab-df-quickchart {\n",
              "      --bg-color: #3B4455;\n",
              "      --fill-color: #D2E3FC;\n",
              "      --hover-bg-color: #434B5C;\n",
              "      --hover-fill-color: #FFFFFF;\n",
              "      --disabled-bg-color: #3B4455;\n",
              "      --disabled-fill-color: #666;\n",
              "  }\n",
              "\n",
              "  .colab-df-quickchart {\n",
              "    background-color: var(--bg-color);\n",
              "    border: none;\n",
              "    border-radius: 50%;\n",
              "    cursor: pointer;\n",
              "    display: none;\n",
              "    fill: var(--fill-color);\n",
              "    height: 32px;\n",
              "    padding: 0;\n",
              "    width: 32px;\n",
              "  }\n",
              "\n",
              "  .colab-df-quickchart:hover {\n",
              "    background-color: var(--hover-bg-color);\n",
              "    box-shadow: 0 1px 2px rgba(60, 64, 67, 0.3), 0 1px 3px 1px rgba(60, 64, 67, 0.15);\n",
              "    fill: var(--button-hover-fill-color);\n",
              "  }\n",
              "\n",
              "  .colab-df-quickchart-complete:disabled,\n",
              "  .colab-df-quickchart-complete:disabled:hover {\n",
              "    background-color: var(--disabled-bg-color);\n",
              "    fill: var(--disabled-fill-color);\n",
              "    box-shadow: none;\n",
              "  }\n",
              "\n",
              "  .colab-df-spinner {\n",
              "    border: 2px solid var(--fill-color);\n",
              "    border-color: transparent;\n",
              "    border-bottom-color: var(--fill-color);\n",
              "    animation:\n",
              "      spin 1s steps(1) infinite;\n",
              "  }\n",
              "\n",
              "  @keyframes spin {\n",
              "    0% {\n",
              "      border-color: transparent;\n",
              "      border-bottom-color: var(--fill-color);\n",
              "      border-left-color: var(--fill-color);\n",
              "    }\n",
              "    20% {\n",
              "      border-color: transparent;\n",
              "      border-left-color: var(--fill-color);\n",
              "      border-top-color: var(--fill-color);\n",
              "    }\n",
              "    30% {\n",
              "      border-color: transparent;\n",
              "      border-left-color: var(--fill-color);\n",
              "      border-top-color: var(--fill-color);\n",
              "      border-right-color: var(--fill-color);\n",
              "    }\n",
              "    40% {\n",
              "      border-color: transparent;\n",
              "      border-right-color: var(--fill-color);\n",
              "      border-top-color: var(--fill-color);\n",
              "    }\n",
              "    60% {\n",
              "      border-color: transparent;\n",
              "      border-right-color: var(--fill-color);\n",
              "    }\n",
              "    80% {\n",
              "      border-color: transparent;\n",
              "      border-right-color: var(--fill-color);\n",
              "      border-bottom-color: var(--fill-color);\n",
              "    }\n",
              "    90% {\n",
              "      border-color: transparent;\n",
              "      border-bottom-color: var(--fill-color);\n",
              "    }\n",
              "  }\n",
              "</style>\n",
              "\n",
              "  <script>\n",
              "    async function quickchart(key) {\n",
              "      const quickchartButtonEl =\n",
              "        document.querySelector('#' + key + ' button');\n",
              "      quickchartButtonEl.disabled = true;  // To prevent multiple clicks.\n",
              "      quickchartButtonEl.classList.add('colab-df-spinner');\n",
              "      try {\n",
              "        const charts = await google.colab.kernel.invokeFunction(\n",
              "            'suggestCharts', [key], {});\n",
              "      } catch (error) {\n",
              "        console.error('Error during call to suggestCharts:', error);\n",
              "      }\n",
              "      quickchartButtonEl.classList.remove('colab-df-spinner');\n",
              "      quickchartButtonEl.classList.add('colab-df-quickchart-complete');\n",
              "    }\n",
              "    (() => {\n",
              "      let quickchartButtonEl =\n",
              "        document.querySelector('#df-adda6c90-403e-45b0-b9dd-ed9a5355e367 button');\n",
              "      quickchartButtonEl.style.display =\n",
              "        google.colab.kernel.accessAllowed ? 'block' : 'none';\n",
              "    })();\n",
              "  </script>\n",
              "</div>\n",
              "\n",
              "    </div>\n",
              "  </div>\n"
            ]
          },
          "metadata": {},
          "execution_count": 26
        }
      ]
    },
    {
      "cell_type": "code",
      "source": [
        "df.describe()"
      ],
      "metadata": {
        "colab": {
          "base_uri": "https://localhost:8080/",
          "height": 174
        },
        "id": "OcVHl5HDjkhw",
        "outputId": "df1c1d48-a120-4996-edee-e28813e44df1"
      },
      "execution_count": null,
      "outputs": [
        {
          "output_type": "execute_result",
          "data": {
            "text/plain": [
              "       company_name      job_title                     location JOB_PORTAL\n",
              "count           485            485                          485        485\n",
              "unique          243            396                            3          1\n",
              "top         Genpact  Data Engineer  Bengaluru, Karnataka, India   LINKEDIN\n",
              "freq             56             10                          287        485"
            ],
            "text/html": [
              "\n",
              "  <div id=\"df-d8ac8225-5f38-41ac-b056-a442ef5360d0\" class=\"colab-df-container\">\n",
              "    <div>\n",
              "<style scoped>\n",
              "    .dataframe tbody tr th:only-of-type {\n",
              "        vertical-align: middle;\n",
              "    }\n",
              "\n",
              "    .dataframe tbody tr th {\n",
              "        vertical-align: top;\n",
              "    }\n",
              "\n",
              "    .dataframe thead th {\n",
              "        text-align: right;\n",
              "    }\n",
              "</style>\n",
              "<table border=\"1\" class=\"dataframe\">\n",
              "  <thead>\n",
              "    <tr style=\"text-align: right;\">\n",
              "      <th></th>\n",
              "      <th>company_name</th>\n",
              "      <th>job_title</th>\n",
              "      <th>location</th>\n",
              "      <th>JOB_PORTAL</th>\n",
              "    </tr>\n",
              "  </thead>\n",
              "  <tbody>\n",
              "    <tr>\n",
              "      <th>count</th>\n",
              "      <td>485</td>\n",
              "      <td>485</td>\n",
              "      <td>485</td>\n",
              "      <td>485</td>\n",
              "    </tr>\n",
              "    <tr>\n",
              "      <th>unique</th>\n",
              "      <td>243</td>\n",
              "      <td>396</td>\n",
              "      <td>3</td>\n",
              "      <td>1</td>\n",
              "    </tr>\n",
              "    <tr>\n",
              "      <th>top</th>\n",
              "      <td>Genpact</td>\n",
              "      <td>Data Engineer</td>\n",
              "      <td>Bengaluru, Karnataka, India</td>\n",
              "      <td>LINKEDIN</td>\n",
              "    </tr>\n",
              "    <tr>\n",
              "      <th>freq</th>\n",
              "      <td>56</td>\n",
              "      <td>10</td>\n",
              "      <td>287</td>\n",
              "      <td>485</td>\n",
              "    </tr>\n",
              "  </tbody>\n",
              "</table>\n",
              "</div>\n",
              "    <div class=\"colab-df-buttons\">\n",
              "\n",
              "  <div class=\"colab-df-container\">\n",
              "    <button class=\"colab-df-convert\" onclick=\"convertToInteractive('df-d8ac8225-5f38-41ac-b056-a442ef5360d0')\"\n",
              "            title=\"Convert this dataframe to an interactive table.\"\n",
              "            style=\"display:none;\">\n",
              "\n",
              "  <svg xmlns=\"http://www.w3.org/2000/svg\" height=\"24px\" viewBox=\"0 -960 960 960\">\n",
              "    <path d=\"M120-120v-720h720v720H120Zm60-500h600v-160H180v160Zm220 220h160v-160H400v160Zm0 220h160v-160H400v160ZM180-400h160v-160H180v160Zm440 0h160v-160H620v160ZM180-180h160v-160H180v160Zm440 0h160v-160H620v160Z\"/>\n",
              "  </svg>\n",
              "    </button>\n",
              "\n",
              "  <style>\n",
              "    .colab-df-container {\n",
              "      display:flex;\n",
              "      gap: 12px;\n",
              "    }\n",
              "\n",
              "    .colab-df-convert {\n",
              "      background-color: #E8F0FE;\n",
              "      border: none;\n",
              "      border-radius: 50%;\n",
              "      cursor: pointer;\n",
              "      display: none;\n",
              "      fill: #1967D2;\n",
              "      height: 32px;\n",
              "      padding: 0 0 0 0;\n",
              "      width: 32px;\n",
              "    }\n",
              "\n",
              "    .colab-df-convert:hover {\n",
              "      background-color: #E2EBFA;\n",
              "      box-shadow: 0px 1px 2px rgba(60, 64, 67, 0.3), 0px 1px 3px 1px rgba(60, 64, 67, 0.15);\n",
              "      fill: #174EA6;\n",
              "    }\n",
              "\n",
              "    .colab-df-buttons div {\n",
              "      margin-bottom: 4px;\n",
              "    }\n",
              "\n",
              "    [theme=dark] .colab-df-convert {\n",
              "      background-color: #3B4455;\n",
              "      fill: #D2E3FC;\n",
              "    }\n",
              "\n",
              "    [theme=dark] .colab-df-convert:hover {\n",
              "      background-color: #434B5C;\n",
              "      box-shadow: 0px 1px 3px 1px rgba(0, 0, 0, 0.15);\n",
              "      filter: drop-shadow(0px 1px 2px rgba(0, 0, 0, 0.3));\n",
              "      fill: #FFFFFF;\n",
              "    }\n",
              "  </style>\n",
              "\n",
              "    <script>\n",
              "      const buttonEl =\n",
              "        document.querySelector('#df-d8ac8225-5f38-41ac-b056-a442ef5360d0 button.colab-df-convert');\n",
              "      buttonEl.style.display =\n",
              "        google.colab.kernel.accessAllowed ? 'block' : 'none';\n",
              "\n",
              "      async function convertToInteractive(key) {\n",
              "        const element = document.querySelector('#df-d8ac8225-5f38-41ac-b056-a442ef5360d0');\n",
              "        const dataTable =\n",
              "          await google.colab.kernel.invokeFunction('convertToInteractive',\n",
              "                                                    [key], {});\n",
              "        if (!dataTable) return;\n",
              "\n",
              "        const docLinkHtml = 'Like what you see? Visit the ' +\n",
              "          '<a target=\"_blank\" href=https://colab.research.google.com/notebooks/data_table.ipynb>data table notebook</a>'\n",
              "          + ' to learn more about interactive tables.';\n",
              "        element.innerHTML = '';\n",
              "        dataTable['output_type'] = 'display_data';\n",
              "        await google.colab.output.renderOutput(dataTable, element);\n",
              "        const docLink = document.createElement('div');\n",
              "        docLink.innerHTML = docLinkHtml;\n",
              "        element.appendChild(docLink);\n",
              "      }\n",
              "    </script>\n",
              "  </div>\n",
              "\n",
              "\n",
              "<div id=\"df-d68bab83-866f-485a-aa74-4985f8853393\">\n",
              "  <button class=\"colab-df-quickchart\" onclick=\"quickchart('df-d68bab83-866f-485a-aa74-4985f8853393')\"\n",
              "            title=\"Suggest charts\"\n",
              "            style=\"display:none;\">\n",
              "\n",
              "<svg xmlns=\"http://www.w3.org/2000/svg\" height=\"24px\"viewBox=\"0 0 24 24\"\n",
              "     width=\"24px\">\n",
              "    <g>\n",
              "        <path d=\"M19 3H5c-1.1 0-2 .9-2 2v14c0 1.1.9 2 2 2h14c1.1 0 2-.9 2-2V5c0-1.1-.9-2-2-2zM9 17H7v-7h2v7zm4 0h-2V7h2v10zm4 0h-2v-4h2v4z\"/>\n",
              "    </g>\n",
              "</svg>\n",
              "  </button>\n",
              "\n",
              "<style>\n",
              "  .colab-df-quickchart {\n",
              "      --bg-color: #E8F0FE;\n",
              "      --fill-color: #1967D2;\n",
              "      --hover-bg-color: #E2EBFA;\n",
              "      --hover-fill-color: #174EA6;\n",
              "      --disabled-fill-color: #AAA;\n",
              "      --disabled-bg-color: #DDD;\n",
              "  }\n",
              "\n",
              "  [theme=dark] .colab-df-quickchart {\n",
              "      --bg-color: #3B4455;\n",
              "      --fill-color: #D2E3FC;\n",
              "      --hover-bg-color: #434B5C;\n",
              "      --hover-fill-color: #FFFFFF;\n",
              "      --disabled-bg-color: #3B4455;\n",
              "      --disabled-fill-color: #666;\n",
              "  }\n",
              "\n",
              "  .colab-df-quickchart {\n",
              "    background-color: var(--bg-color);\n",
              "    border: none;\n",
              "    border-radius: 50%;\n",
              "    cursor: pointer;\n",
              "    display: none;\n",
              "    fill: var(--fill-color);\n",
              "    height: 32px;\n",
              "    padding: 0;\n",
              "    width: 32px;\n",
              "  }\n",
              "\n",
              "  .colab-df-quickchart:hover {\n",
              "    background-color: var(--hover-bg-color);\n",
              "    box-shadow: 0 1px 2px rgba(60, 64, 67, 0.3), 0 1px 3px 1px rgba(60, 64, 67, 0.15);\n",
              "    fill: var(--button-hover-fill-color);\n",
              "  }\n",
              "\n",
              "  .colab-df-quickchart-complete:disabled,\n",
              "  .colab-df-quickchart-complete:disabled:hover {\n",
              "    background-color: var(--disabled-bg-color);\n",
              "    fill: var(--disabled-fill-color);\n",
              "    box-shadow: none;\n",
              "  }\n",
              "\n",
              "  .colab-df-spinner {\n",
              "    border: 2px solid var(--fill-color);\n",
              "    border-color: transparent;\n",
              "    border-bottom-color: var(--fill-color);\n",
              "    animation:\n",
              "      spin 1s steps(1) infinite;\n",
              "  }\n",
              "\n",
              "  @keyframes spin {\n",
              "    0% {\n",
              "      border-color: transparent;\n",
              "      border-bottom-color: var(--fill-color);\n",
              "      border-left-color: var(--fill-color);\n",
              "    }\n",
              "    20% {\n",
              "      border-color: transparent;\n",
              "      border-left-color: var(--fill-color);\n",
              "      border-top-color: var(--fill-color);\n",
              "    }\n",
              "    30% {\n",
              "      border-color: transparent;\n",
              "      border-left-color: var(--fill-color);\n",
              "      border-top-color: var(--fill-color);\n",
              "      border-right-color: var(--fill-color);\n",
              "    }\n",
              "    40% {\n",
              "      border-color: transparent;\n",
              "      border-right-color: var(--fill-color);\n",
              "      border-top-color: var(--fill-color);\n",
              "    }\n",
              "    60% {\n",
              "      border-color: transparent;\n",
              "      border-right-color: var(--fill-color);\n",
              "    }\n",
              "    80% {\n",
              "      border-color: transparent;\n",
              "      border-right-color: var(--fill-color);\n",
              "      border-bottom-color: var(--fill-color);\n",
              "    }\n",
              "    90% {\n",
              "      border-color: transparent;\n",
              "      border-bottom-color: var(--fill-color);\n",
              "    }\n",
              "  }\n",
              "</style>\n",
              "\n",
              "  <script>\n",
              "    async function quickchart(key) {\n",
              "      const quickchartButtonEl =\n",
              "        document.querySelector('#' + key + ' button');\n",
              "      quickchartButtonEl.disabled = true;  // To prevent multiple clicks.\n",
              "      quickchartButtonEl.classList.add('colab-df-spinner');\n",
              "      try {\n",
              "        const charts = await google.colab.kernel.invokeFunction(\n",
              "            'suggestCharts', [key], {});\n",
              "      } catch (error) {\n",
              "        console.error('Error during call to suggestCharts:', error);\n",
              "      }\n",
              "      quickchartButtonEl.classList.remove('colab-df-spinner');\n",
              "      quickchartButtonEl.classList.add('colab-df-quickchart-complete');\n",
              "    }\n",
              "    (() => {\n",
              "      let quickchartButtonEl =\n",
              "        document.querySelector('#df-d68bab83-866f-485a-aa74-4985f8853393 button');\n",
              "      quickchartButtonEl.style.display =\n",
              "        google.colab.kernel.accessAllowed ? 'block' : 'none';\n",
              "    })();\n",
              "  </script>\n",
              "</div>\n",
              "\n",
              "    </div>\n",
              "  </div>\n"
            ]
          },
          "metadata": {},
          "execution_count": 53
        }
      ]
    },
    {
      "cell_type": "markdown",
      "source": [
        "**As we can see that top company offering more number of jobs is Genpact, with the job title as 'Data Engineer', and the location is Bengaluru, Karnataka, India\n",
        "Total jobs from Genpact = 56,\n",
        "Jobs of title 'Data Engineer' = 10, 287 jobs in Bengaluru**"
      ],
      "metadata": {
        "id": "cAr_FsyDjt5H"
      }
    },
    {
      "cell_type": "markdown",
      "source": [
        "**Displaying column names**"
      ],
      "metadata": {
        "id": "H4pHJRdBkreG"
      }
    },
    {
      "cell_type": "code",
      "source": [
        "df.columns"
      ],
      "metadata": {
        "colab": {
          "base_uri": "https://localhost:8080/"
        },
        "id": "cYV2Ibs8XqP0",
        "outputId": "90fb2d62-b2f4-4d4c-f1e1-7370f7dbb9ca"
      },
      "execution_count": null,
      "outputs": [
        {
          "output_type": "execute_result",
          "data": {
            "text/plain": [
              "Index(['company_name', 'job_title', 'location', 'JOB_PORTAL'], dtype='object')"
            ]
          },
          "metadata": {},
          "execution_count": 27
        }
      ]
    },
    {
      "cell_type": "markdown",
      "source": [
        "**Identifying Null values**"
      ],
      "metadata": {
        "id": "4tAfN_Xbkupw"
      }
    },
    {
      "cell_type": "code",
      "source": [
        "df.isnull().sum()"
      ],
      "metadata": {
        "colab": {
          "base_uri": "https://localhost:8080/"
        },
        "id": "D9WHCjn8JbnT",
        "outputId": "fd966c21-5049-4cf3-f344-5d5c70018594"
      },
      "execution_count": null,
      "outputs": [
        {
          "output_type": "execute_result",
          "data": {
            "text/plain": [
              "company_name    0\n",
              "job_title       0\n",
              "location        0\n",
              "JOB_PORTAL      0\n",
              "dtype: int64"
            ]
          },
          "metadata": {},
          "execution_count": 28
        }
      ]
    },
    {
      "cell_type": "markdown",
      "source": [
        "**Checking duplicate values**"
      ],
      "metadata": {
        "id": "2j0AsRh9ky__"
      }
    },
    {
      "cell_type": "code",
      "source": [
        "df['job_title'].duplicated()"
      ],
      "metadata": {
        "colab": {
          "base_uri": "https://localhost:8080/"
        },
        "id": "CDAbXs5UJe46",
        "outputId": "7e6c34b0-b2ee-424c-e2f2-307ead17313f"
      },
      "execution_count": null,
      "outputs": [
        {
          "output_type": "execute_result",
          "data": {
            "text/plain": [
              "0      False\n",
              "1      False\n",
              "2      False\n",
              "3      False\n",
              "4      False\n",
              "       ...  \n",
              "480    False\n",
              "481    False\n",
              "482    False\n",
              "483    False\n",
              "484    False\n",
              "Name: job_title, Length: 485, dtype: bool"
            ]
          },
          "metadata": {},
          "execution_count": 29
        }
      ]
    },
    {
      "cell_type": "markdown",
      "source": [
        "**"
      ],
      "metadata": {
        "id": "moCoTjMjk2i9"
      }
    },
    {
      "cell_type": "markdown",
      "source": [
        "**Checking for different locations available**"
      ],
      "metadata": {
        "id": "m8rcEKHWk6iO"
      }
    },
    {
      "cell_type": "code",
      "source": [
        "locations = df['location'].unique()"
      ],
      "metadata": {
        "id": "GiXbvqUHJlgS"
      },
      "execution_count": null,
      "outputs": []
    },
    {
      "cell_type": "code",
      "source": [
        "df['company_name'].duplicated().sum()"
      ],
      "metadata": {
        "colab": {
          "base_uri": "https://localhost:8080/"
        },
        "id": "wL35F4BxNFPz",
        "outputId": "8a861176-e422-4d44-dc23-a675df0574a2"
      },
      "execution_count": null,
      "outputs": [
        {
          "output_type": "execute_result",
          "data": {
            "text/plain": [
              "242"
            ]
          },
          "metadata": {},
          "execution_count": 31
        }
      ]
    },
    {
      "cell_type": "markdown",
      "source": [
        "We can see there are 242 comapanies which have posted jobs more than one time"
      ],
      "metadata": {
        "id": "pLPoaB7aO13C"
      }
    },
    {
      "cell_type": "code",
      "source": [
        "companies = {'Names': [], 'Qty': []}\n",
        "duplicates = []\n",
        "\n",
        "for i in df['company_name']:\n",
        "    if i in companies['Names']:\n",
        "        duplicates.append(i)\n",
        "        index = companies['Names'].index(i)\n",
        "        companies['Qty'][index] += 1\n",
        "    else:\n",
        "        companies['Names'].append(i)\n",
        "        companies['Qty'].append(1)"
      ],
      "metadata": {
        "id": "y0e7zm8VNPby"
      },
      "execution_count": null,
      "outputs": []
    },
    {
      "cell_type": "code",
      "source": [
        "cs = pd.DataFrame(companies)"
      ],
      "metadata": {
        "id": "c5sde5QVRM8r"
      },
      "execution_count": null,
      "outputs": []
    },
    {
      "cell_type": "code",
      "source": [
        "job_posters = cs.sort_values(by='Qty',ascending = False)"
      ],
      "metadata": {
        "id": "Fn7YLq6TRQur"
      },
      "execution_count": null,
      "outputs": []
    },
    {
      "cell_type": "code",
      "source": [
        "job_posters = job_posters[job_posters['Qty'] != 1]"
      ],
      "metadata": {
        "id": "BAdUA89TRsrb"
      },
      "execution_count": null,
      "outputs": []
    },
    {
      "cell_type": "code",
      "source": [
        "import matplotlib.pyplot as plt\n",
        "import numpy as np\n",
        "labels = job_posters['Names']\n",
        "sizes = job_posters['Qty']\n",
        "fig, ax = plt.subplots()\n",
        "ax.pie(sizes, labels=labels,autopct='%1.1f%%')"
      ],
      "metadata": {
        "colab": {
          "base_uri": "https://localhost:8080/",
          "height": 1000
        },
        "id": "o-YaYFqDUqfj",
        "outputId": "7473793e-87cc-4539-bcc4-82ee71a6ed29"
      },
      "execution_count": null,
      "outputs": [
        {
          "output_type": "execute_result",
          "data": {
            "text/plain": [
              "([<matplotlib.patches.Wedge at 0x7e2fb0e37a30>,\n",
              "  <matplotlib.patches.Wedge at 0x7e2fb0e62e00>,\n",
              "  <matplotlib.patches.Wedge at 0x7e2fb0e36560>,\n",
              "  <matplotlib.patches.Wedge at 0x7e2fb0e36200>,\n",
              "  <matplotlib.patches.Wedge at 0x7e2fb0bc80d0>,\n",
              "  <matplotlib.patches.Wedge at 0x7e2fb0bc8760>,\n",
              "  <matplotlib.patches.Wedge at 0x7e2fb0bc8df0>,\n",
              "  <matplotlib.patches.Wedge at 0x7e2fb0bc9480>,\n",
              "  <matplotlib.patches.Wedge at 0x7e2fb0bc9b10>,\n",
              "  <matplotlib.patches.Wedge at 0x7e2fb0bca1a0>,\n",
              "  <matplotlib.patches.Wedge at 0x7e2fb0e34130>,\n",
              "  <matplotlib.patches.Wedge at 0x7e2fb0bcaec0>,\n",
              "  <matplotlib.patches.Wedge at 0x7e2fb0bcb550>,\n",
              "  <matplotlib.patches.Wedge at 0x7e2fb0bcbbe0>,\n",
              "  <matplotlib.patches.Wedge at 0x7e2fb0c042b0>,\n",
              "  <matplotlib.patches.Wedge at 0x7e2fb0c04940>,\n",
              "  <matplotlib.patches.Wedge at 0x7e2fb0c04fd0>,\n",
              "  <matplotlib.patches.Wedge at 0x7e2fb0c05660>,\n",
              "  <matplotlib.patches.Wedge at 0x7e2fb0c05cf0>,\n",
              "  <matplotlib.patches.Wedge at 0x7e2fb0c06380>,\n",
              "  <matplotlib.patches.Wedge at 0x7e2fb0c06a10>,\n",
              "  <matplotlib.patches.Wedge at 0x7e2fb0c070a0>,\n",
              "  <matplotlib.patches.Wedge at 0x7e2fb0c07730>,\n",
              "  <matplotlib.patches.Wedge at 0x7e2fb0c07dc0>,\n",
              "  <matplotlib.patches.Wedge at 0x7e2fb0c38490>,\n",
              "  <matplotlib.patches.Wedge at 0x7e2fb0c38b20>,\n",
              "  <matplotlib.patches.Wedge at 0x7e2fb0c391b0>,\n",
              "  <matplotlib.patches.Wedge at 0x7e2fb0c39840>,\n",
              "  <matplotlib.patches.Wedge at 0x7e2fb0c39ed0>,\n",
              "  <matplotlib.patches.Wedge at 0x7e2fb0c3a560>,\n",
              "  <matplotlib.patches.Wedge at 0x7e2fb0c3abf0>,\n",
              "  <matplotlib.patches.Wedge at 0x7e2fb0c3b280>,\n",
              "  <matplotlib.patches.Wedge at 0x7e2fb0c3b910>,\n",
              "  <matplotlib.patches.Wedge at 0x7e2fb0c3bfa0>,\n",
              "  <matplotlib.patches.Wedge at 0x7e2faea80670>,\n",
              "  <matplotlib.patches.Wedge at 0x7e2faea80d00>,\n",
              "  <matplotlib.patches.Wedge at 0x7e2faea81390>,\n",
              "  <matplotlib.patches.Wedge at 0x7e2faea81a20>,\n",
              "  <matplotlib.patches.Wedge at 0x7e2faea820b0>,\n",
              "  <matplotlib.patches.Wedge at 0x7e2faea82740>,\n",
              "  <matplotlib.patches.Wedge at 0x7e2faea82dd0>,\n",
              "  <matplotlib.patches.Wedge at 0x7e2faea83460>,\n",
              "  <matplotlib.patches.Wedge at 0x7e2faea83af0>,\n",
              "  <matplotlib.patches.Wedge at 0x7e2faeac01c0>,\n",
              "  <matplotlib.patches.Wedge at 0x7e2faeac0850>,\n",
              "  <matplotlib.patches.Wedge at 0x7e2faeac0ee0>,\n",
              "  <matplotlib.patches.Wedge at 0x7e2faeac1570>,\n",
              "  <matplotlib.patches.Wedge at 0x7e2faeac1c00>,\n",
              "  <matplotlib.patches.Wedge at 0x7e2faeac2290>,\n",
              "  <matplotlib.patches.Wedge at 0x7e2faeac2920>,\n",
              "  <matplotlib.patches.Wedge at 0x7e2faeac2fb0>,\n",
              "  <matplotlib.patches.Wedge at 0x7e2faeac3640>,\n",
              "  <matplotlib.patches.Wedge at 0x7e2faeac3cd0>,\n",
              "  <matplotlib.patches.Wedge at 0x7e2faeaf83a0>,\n",
              "  <matplotlib.patches.Wedge at 0x7e2faeaf8a30>,\n",
              "  <matplotlib.patches.Wedge at 0x7e2faeaf90c0>,\n",
              "  <matplotlib.patches.Wedge at 0x7e2faeaf9750>,\n",
              "  <matplotlib.patches.Wedge at 0x7e2faeaf9e10>,\n",
              "  <matplotlib.patches.Wedge at 0x7e2faeafa4d0>,\n",
              "  <matplotlib.patches.Wedge at 0x7e2faeafab60>,\n",
              "  <matplotlib.patches.Wedge at 0x7e2faeafb1f0>],\n",
              " [Text(0.919732350219786, 0.6034006993360125, 'Genpact'),\n",
              "  Text(0.14216527352427463, 1.0907745115301184, 'Intel Corporation'),\n",
              "  Text(-0.3529083307405733, 1.041852057680889, 'KAVYA INTERPRISES'),\n",
              "  Text(-0.6820104918062194, 0.8630536999898899, 'EPAM Systems'),\n",
              "  Text(-0.9005217644289953, 0.6317123964192005, 'OptimHire'),\n",
              "  Text(-1.0283622297260724, 0.3904755107209935, 'Goldman Sachs'),\n",
              "  Text(-1.0928535252970857, 0.12518455274406726, 'Accenture in India'),\n",
              "  Text(-1.0900228583741889, -0.14781802400845107, 'Wells Fargo'),\n",
              "  Text(-1.0436675807029823, -0.34750249062356947, 'GfK - An NIQ Company'),\n",
              "  Text(-0.9924752724118284, -0.4743340949700612, 'Tata Consultancy Services'),\n",
              "  Text(-0.9320461908877934, -0.5842002208588724, 'Uplers'),\n",
              "  Text(-0.8665777384225615, -0.6775271384014361, 'Fusion Plus Solutions Inc'),\n",
              "  Text(-0.7996760766740246, -0.7553265336232003, 'VARITE INC'),\n",
              "  Text(-0.7343469723161251, -0.8189838363790463, 'Revature'),\n",
              "  Text(-0.6639683864645898, -0.8770096816886398, 'gigin.ai'),\n",
              "  Text(-0.5890242529820252, -0.9290050750124929, 'TE Connectivity'),\n",
              "  Text(-0.5201073730050313, -0.9692720570334241, 'Novartis India'),\n",
              "  Text(-0.4588419844382897, -0.9997319807412046, 'Nexdigm'),\n",
              "  Text(-0.3958014254278906, -1.0263241357530526, 'ProPMO Services'),\n",
              "  Text(-0.3312295876422142, -1.048945642190466, 'NVIDIA'),\n",
              "  Text(-0.2653762869695553, -1.0675089818424257, 'Kiash Solutions LLP'),\n",
              "  Text(-0.1984962970290151, -1.0819423367563399, 'USEReady'),\n",
              "  Text(-0.13084836350089724, -1.092189867087741, 'YOGITA STAFFING SOLUTION'),\n",
              "  Text(-0.06269420308996164, -1.098211927133791, 'Virtusa'),\n",
              "  Text(0.005702509005623532, -1.0999852187147976, 'Thomson Reuters'),\n",
              "  Text(0.07407715920237569, -1.0975028813103436, 'Kaarlo Training & HR Solutions Pvt. Ltd.'),\n",
              "  Text(0.14216521927000628, -1.0907745186013063, 'HuQuo'),\n",
              "  Text(0.19849624637963786, -1.081942346048621, 'Mobile Programming LLC'),\n",
              "  Text(0.2431842800574687, -1.0727820868810827, 'Kunato'),\n",
              "  Text(0.287454090896773, -1.061776881282838, 'Vodafone Idea Limited'),\n",
              "  Text(0.33122954467561044, -1.0489456557581942, 'CirrusLabs'),\n",
              "  Text(0.37443535735616096, -1.0343104771593317, 'Kaseya'),\n",
              "  Text(0.41699722455651245, -1.0178965147362309, 'SingleStore'),\n",
              "  Text(0.4588419493376653, -0.9997319968511619, 'XL Dynamics India Pvt. Ltd.'),\n",
              "  Text(0.4998975680859705, -0.9798481624321866, 'Synopsys Inc'),\n",
              "  Text(0.5400934742745327, -0.9582792072491528, 'Reuters News Agency'),\n",
              "  Text(0.5793605398907209, -0.9350622251045824, 'Intellipaat'),\n",
              "  Text(0.6176312343209674, -0.9102371440405838, 'A.P. Moller - Maersk'),\n",
              "  Text(0.6548397404883899, -0.8838466576715094, 'Mastercard'),\n",
              "  Text(0.6909220680435175, -0.8559361517604389, 'EY'),\n",
              "  Text(0.725816163413449, -0.8265536261657689, 'Puffy'),\n",
              "  Text(0.7594620165201911, -0.7957496122921363, 'Capgemini'),\n",
              "  Text(0.7918017639846312, -0.7635770861876531, 'Digantara'),\n",
              "  Text(0.8227797886386753, -0.7300913774368911, 'Verint'),\n",
              "  Text(0.8523428151743969, -0.6953500740063123, 'SightSpectrum'),\n",
              "  Text(0.8804400017657127, -0.6594129232057799, 'NomiSo Inc'),\n",
              "  Text(0.9070230275050041, -0.6223417289364879, 'Haleon'),\n",
              "  Text(0.9320461755043259, -0.5842002454020021, 'Wayfair'),\n",
              "  Text(0.9554664115182792, -0.545054067465222, 'MPOWER Financing'),\n",
              "  Text(0.9772434579533359, -0.5049705178398108, 'Nisum'),\n",
              "  Text(0.9973398631363342, -0.4640185313101176, 'Eli Lilly and Company'),\n",
              "  Text(1.0157210657230213, -0.4222685361786858, 'Dun & Bradstreet'),\n",
              "  Text(1.0323554541358744, -0.37979233314525, 'Alp Consulting Ltd.'),\n",
              "  Text(1.047214420928979, -0.33666297182550836, 'Capital One'),\n",
              "  Text(1.0602724119864673, -0.29295462512204706, 'Naresh i Technologies'),\n",
              "  Text(1.0715069704699107, -0.2487424616634523, 'orangejobs'),\n",
              "  Text(1.0808987754390849, -0.2041025165309993, 'Mphasis'),\n",
              "  Text(1.0884316750796859, -0.15911156049523634, 'Kyndryl'),\n",
              "  Text(1.0940927144808568, -0.11384696798734108, 'Crio.Do'),\n",
              "  Text(1.0978721579147501, -0.06838658403232574, 'Lolly.com'),\n",
              "  Text(1.0997635055798136, -0.02280859037291513, 'Sony India')],\n",
              " [Text(0.5016721910289741, 0.3291276541832795, '18.5%'),\n",
              "  Text(0.07754469464960433, 0.5949679153800645, '8.9%'),\n",
              "  Text(-0.1924954531312218, 0.568282940553212, '5.6%'),\n",
              "  Text(-0.37200572280339234, 0.470756563630849, '5.3%'),\n",
              "  Text(-0.4911936896885429, 0.34457039804683665, '4.0%'),\n",
              "  Text(-0.5609248525778576, 0.21298664221145097, '4.0%'),\n",
              "  Text(-0.5961019228893194, 0.06828248331494577, '4.0%'),\n",
              "  Text(-0.5945579227495575, -0.08062801309551874, '4.0%'),\n",
              "  Text(-0.5692732258379903, -0.1895468130674015, '2.0%'),\n",
              "  Text(-0.54135014858827, -0.25872768816548786, '2.0%'),\n",
              "  Text(-0.5083888313933418, -0.3186546659230212, '1.7%'),\n",
              "  Text(-0.4726787664123062, -0.3695602573098742, '1.7%'),\n",
              "  Text(-0.4361869509131043, -0.41199629106720015, '1.3%'),\n",
              "  Text(-0.40055289399061367, -0.44671845620675243, '1.3%'),\n",
              "  Text(-0.36216457443523076, -0.47836891728471254, '1.3%'),\n",
              "  Text(-0.3212859561720137, -0.5067300409159051, '1.3%'),\n",
              "  Text(-0.28369493073001706, -0.5286938492909585, '1.0%'),\n",
              "  Text(-0.25027744605724894, -0.5453083531315661, '1.0%'),\n",
              "  Text(-0.2158916865970312, -0.5598131649562104, '1.0%'),\n",
              "  Text(-0.18067068416848045, -0.5721521684675268, '1.0%'),\n",
              "  Text(-0.1447507019833938, -0.5822776264595049, '1.0%'),\n",
              "  Text(-0.10827070747037186, -0.590150365503458, '1.0%'),\n",
              "  Text(-0.07137183463685302, -0.5957399275024041, '1.0%'),\n",
              "  Text(-0.034196838049069984, -0.5990246875275222, '1.0%'),\n",
              "  Text(0.0031104594576128355, -0.5999919374807986, '1.0%'),\n",
              "  Text(0.040405723201295825, -0.5986379352601874, '1.0%'),\n",
              "  Text(0.07754466505636705, -0.594967919237076, '1.0%'),\n",
              "  Text(0.10827067984343883, -0.5901503705719751, '0.7%'),\n",
              "  Text(0.13264597094043745, -0.5851538655714996, '0.7%'),\n",
              "  Text(0.15679314048914889, -0.5791510261542753, '0.7%'),\n",
              "  Text(0.18067066073215113, -0.5721521758681059, '0.7%'),\n",
              "  Text(0.20423746764881504, -0.5641693511778172, '0.7%'),\n",
              "  Text(0.2274530315762795, -0.5552162807652168, '0.7%'),\n",
              "  Text(0.25027742691145377, -0.5453083619188155, '0.7%'),\n",
              "  Text(0.2726714007741657, -0.5344626340539199, '0.7%'),\n",
              "  Text(0.29459644051338146, -0.5226977494086288, '0.7%'),\n",
              "  Text(0.31601483994039314, -0.5100339409661357, '0.7%'),\n",
              "  Text(0.33688976417507316, -0.4964929876585002, '0.7%'),\n",
              "  Text(0.3571853129936672, -0.48209817691173235, '0.7%'),\n",
              "  Text(0.3768665825691913, -0.466874264596603, '0.7%'),\n",
              "  Text(0.39589972549824487, -0.4508474324540557, '0.7%'),\n",
              "  Text(0.4142520090110133, -0.4340452430684379, '0.7%'),\n",
              "  Text(0.43189187126434425, -0.4164965924659925, '0.7%'),\n",
              "  Text(0.44878897562109554, -0.39823166042012237, '0.7%'),\n",
              "  Text(0.4649142628223983, -0.37928185854889757, '0.7%'),\n",
              "  Text(0.480240000963116, -0.3596797762940618, '0.7%'),\n",
              "  Text(0.4947398331845476, -0.3394591248744479, '0.7%'),\n",
              "  Text(0.5083888230023595, -0.31865467931018293, '0.7%'),\n",
              "  Text(0.5211634971917886, -0.2973022186173938, '0.7%'),\n",
              "  Text(0.5330418861563649, -0.27543846427626045, '0.7%'),\n",
              "  Text(0.5440035617107276, -0.25310101707824595, '0.7%'),\n",
              "  Text(0.554029672212557, -0.2303282924611013, '0.7%'),\n",
              "  Text(0.5631029749832042, -0.20715945444286363, '0.7%'),\n",
              "  Text(0.5712078659612613, -0.1836343482684591, '0.7%'),\n",
              "  Text(0.578330406538073, -0.15979343188475292, '0.7%'),\n",
              "  Text(0.5844583475290421, -0.13567770636188306, '0.7%'),\n",
              "  Text(0.5895811502395008, -0.11132864538054507, '0.7%'),\n",
              "  Text(0.5936900045889195, -0.08678812390649253, '0.7%'),\n",
              "  Text(0.5967778442622854, -0.062098346174913305, '0.7%'),\n",
              "  Text(0.5988393588625909, -0.03730177310854131, '0.7%'),\n",
              "  Text(0.5998710030435346, -0.012441049294317342, '0.7%')])"
            ]
          },
          "metadata": {},
          "execution_count": 36
        },
        {
          "output_type": "display_data",
          "data": {
            "text/plain": [
              "<Figure size 640x480 with 1 Axes>"
            ],
            "image/png": "[encoded data removed]"
          },
          "metadata": {}
        }
      ]
    },
    {
      "cell_type": "markdown",
      "source": [
        "**From the above pie chart we can see that Genpact has posted about 18.5% of jobs. Then comes the Intel Corporation with 8.9% of jobs, then following the KAVYA INTERPRISES with 5.6% then EPAM.**"
      ],
      "metadata": {
        "id": "7FHm2q0flHee"
      }
    },
    {
      "cell_type": "code",
      "source": [
        "genpact_jobs = df['job_title'][df['company_name']=='Genpact']\n",
        "genpact_jobs"
      ],
      "metadata": {
        "id": "q_aNAEOOVGJ6",
        "colab": {
          "base_uri": "https://localhost:8080/"
        },
        "outputId": "ad5a10b0-9603-4575-90bc-59173df19733"
      },
      "execution_count": null,
      "outputs": [
        {
          "output_type": "execute_result",
          "data": {
            "text/plain": [
              "138                           Business analyst-BFS032343\n",
              "141           Assistant Manager - Data Science-ANA002976\n",
              "142                Asst Manager – Data Science-ANA009599\n",
              "152                 Consultant - Data Engineer-ITO068520\n",
              "165                   Consultant-Data Engineer-ITO074084\n",
              "173                       Associate Operations-ANA009605\n",
              "174                       Associate Operations-ANA009605\n",
              "176                       Associate Operations-ANA009606\n",
              "215                 Consultant - Data Engineer-ITO074107\n",
              "218                     Senior Manager - AI/ML-ANA002973\n",
              "228                          Process Developer-HIG015403\n",
              "234                    AM RTR - Data Analytics-MAN013903\n",
              "235                 Consultant - Data Engineer-ITO074108\n",
              "242                 Consultant - Data Engineer-ITO074105\n",
              "243                Consultant - Data Engineer3-ITO074103\n",
              "262               Assistant Manager - Power BI-CPG021903\n",
              "265          Assistant Manager - Power BI Lead-HIG015647\n",
              "273    Assistant Manager - Supply Chain Management-AN...\n",
              "283       Lead Consultant - Power BI Developer-ITO073744\n",
              "291                  Consultant-Data Engineer4-ITO074104\n",
              "297    Lead Consultant - QA- DB (Snowflake) + ETL (Ta...\n",
              "339            Lead Consultant - Data Engineer-ITO070459\n",
              "346      Consultant - Data Warehouse Developer-ITO073617\n",
              "350      Consultant - Data Warehouse Developer-ITO073526\n",
              "353      Consultant - Data Warehouse Developer-ITO073529\n",
              "355      Assistant Manager – Advanced Analytic-ANA008822\n",
              "361      Consultant - Data Warehouse Developer-ITO073616\n",
              "365    Assistant Manager, Data Governance Specialist-...\n",
              "366            Lead Consultant - Data Engineer-ITO070458\n",
              "372            Lead Consultant - Data Engineer-ITO070452\n",
              "373            Lead Consultant - Data Engineer-ITO070456\n",
              "377            Lead Consultant - Data Engineer-ITO070454\n",
              "379            Lead Consultant - Data Engineer-ITO070455\n",
              "382            Lead Consultant - Data Engineer-ITO070415\n",
              "396    Lead Consultant - QA- DB (Snowflake) + ETL (Ta...\n",
              "398    Lead Consultant - QA- DB (Snowflake) + ETL (Ta...\n",
              "399    Consultant - Azure Cloud DevOps Engineer-ITO07...\n",
              "407      Consultant - Data Warehouse Developer-ITO073528\n",
              "409            Lead Consultant - Data Engineer-ITO068998\n",
              "411      Consultant - Data Warehouse Developer-ITO073534\n",
              "412      Consultant - Data Warehouse Developer-ITO073615\n",
              "413    Lead Consultant - Conversion Analyst – My SQL ...\n",
              "423       Principal Consultant - Data Engineer-ITO068828\n",
              "430    Principal Consultant - Senior Data Engineer-IT...\n",
              "435    Principal Consultant - Senior Data Engineer-IT...\n",
              "444    Lead Consultant - Data warehouse Developer-ITO...\n",
              "447          Lead Consultant-DBT Data Engineer-ITO069040\n",
              "454     Principal Consultant - Project Manager-ITO074422\n",
              "457    Principal Consultant - Senior Data Engineer-IT...\n",
              "459    Lead Consultant - Conversion Analyst – My SQL ...\n",
              "460    Lead Consultant - Data Warehouse Developer-ITO...\n",
              "465    Principal Consultant-Senior DBT Data Engineer-...\n",
              "466    Principal Consultant-Senior DBT Data Engineer-...\n",
              "476    Lead Consultant - Conversion Analyst – Hyperio...\n",
              "480    Lead Consultant - Oracle fusion Functional / T...\n",
              "483    Principal Consultant-Senior Snowflake Develope...\n",
              "Name: job_title, dtype: object"
            ]
          },
          "metadata": {},
          "execution_count": 54
        }
      ]
    },
    {
      "cell_type": "markdown",
      "source": [
        "**Above is the list of jobs offered by the company Genpact**"
      ],
      "metadata": {
        "id": "9G362urjmdc3"
      }
    },
    {
      "cell_type": "code",
      "source": [
        "len(genpact_jobs)\n"
      ],
      "metadata": {
        "colab": {
          "base_uri": "https://localhost:8080/"
        },
        "id": "2G0T8RTDX-83",
        "outputId": "e58e0c12-2c7a-4396-92d1-f83a6d5019e6"
      },
      "execution_count": null,
      "outputs": [
        {
          "output_type": "execute_result",
          "data": {
            "text/plain": [
              "56"
            ]
          },
          "metadata": {},
          "execution_count": 38
        }
      ]
    },
    {
      "cell_type": "markdown",
      "source": [
        "**We can see that Genpact has posted 56 jobs in the portal**"
      ],
      "metadata": {
        "id": "oyYo1bwnllbW"
      }
    },
    {
      "cell_type": "code",
      "source": [
        "intel_jobs = df['job_title'][df['company_name']=='Intel Corporation']"
      ],
      "metadata": {
        "id": "byW80RDKYRZz"
      },
      "execution_count": null,
      "outputs": []
    },
    {
      "cell_type": "code",
      "source": [
        "intel_jobs"
      ],
      "metadata": {
        "colab": {
          "base_uri": "https://localhost:8080/"
        },
        "id": "W_5fbuLuZc9W",
        "outputId": "9e4dcbf7-2d2e-48c5-9910-b0df01fe8b1f"
      },
      "execution_count": null,
      "outputs": [
        {
          "output_type": "execute_result",
          "data": {
            "text/plain": [
              "35                      AI Software Development Engineer\n",
              "47                                AI Frameworks Engineer\n",
              "53                      AI Software Application Engineer\n",
              "54                      AI Software Application Engineer\n",
              "60                      AI Software Development Engineer\n",
              "65     Systems Analyst - Supply Chain Data and Analytics\n",
              "68     Systems Analyst - Supply Chain Data and Analytics\n",
              "109                  Cloud Software Development Engineer\n",
              "139    AI Software Solutions Engineer (AI Frameworks,...\n",
              "175           AI Software Solution Engineer (Validation)\n",
              "209                  Cloud Software Development Engineer\n",
              "227                     Post Silicon validation Engineer\n",
              "244                  Cloud Software Development Engineer\n",
              "253                  Development Tools Software Engineer\n",
              "255          AI Software Solutions Engineer (Kernel Dev)\n",
              "268                        Information Security Engineer\n",
              "272            AI Software Solutions Engineer (Embedded)\n",
              "289                             Physical Design Engineer\n",
              "303                   Multimedia Video Software Engineer\n",
              "415                Structural (Physical Design) Engineer\n",
              "421                      Middleware Development Engineer\n",
              "422                      Middleware Development Engineer\n",
              "428    AI Software Solutions Engineer (Linux Kernel D...\n",
              "445    Structural (Physical Design) Engineer Full Chi...\n",
              "448                        IFS, SoC IR Analysis Engineer\n",
              "453                      SAP HANA Database Administrator\n",
              "468              Staff Layout Design (Tape-out) Engineer\n",
              "Name: job_title, dtype: object"
            ]
          },
          "metadata": {},
          "execution_count": 40
        }
      ]
    },
    {
      "cell_type": "markdown",
      "source": [
        "**Above is the list of jobs offered by the company Intel**"
      ],
      "metadata": {
        "id": "dzhlbL8_mazZ"
      }
    },
    {
      "cell_type": "code",
      "source": [
        "len(intel_jobs)"
      ],
      "metadata": {
        "colab": {
          "base_uri": "https://localhost:8080/"
        },
        "id": "VxQMiK4BZTN2",
        "outputId": "7da0fa60-b9ec-4148-b6a2-97f54a4b76bc"
      },
      "execution_count": null,
      "outputs": [
        {
          "output_type": "execute_result",
          "data": {
            "text/plain": [
              "27"
            ]
          },
          "metadata": {},
          "execution_count": 41
        }
      ]
    },
    {
      "cell_type": "markdown",
      "source": [
        "**Intel has posted 27 jobs in the portal**"
      ],
      "metadata": {
        "id": "g8g4qdBvl2ve"
      }
    },
    {
      "cell_type": "code",
      "source": [
        "kavya_jobs = df['job_title'][df['company_name']=='KAVYA INTERPRISES']"
      ],
      "metadata": {
        "id": "306gy79OZWHz"
      },
      "execution_count": null,
      "outputs": []
    },
    {
      "cell_type": "code",
      "source": [
        "len(kavya_jobs)"
      ],
      "metadata": {
        "colab": {
          "base_uri": "https://localhost:8080/"
        },
        "id": "Iaf2c0PbaCoD",
        "outputId": "9e72c6ec-91b1-485d-ed73-b6ea963e8207"
      },
      "execution_count": null,
      "outputs": [
        {
          "output_type": "execute_result",
          "data": {
            "text/plain": [
              "17"
            ]
          },
          "metadata": {},
          "execution_count": 43
        }
      ]
    },
    {
      "cell_type": "markdown",
      "source": [
        "**Kavya jobs has posted 17 jobs**"
      ],
      "metadata": {
        "id": "6TsnCSXOmEkh"
      }
    },
    {
      "cell_type": "code",
      "source": [
        "kavya_jobs"
      ],
      "metadata": {
        "colab": {
          "base_uri": "https://localhost:8080/"
        },
        "id": "x-tYnS3AZvCT",
        "outputId": "abebc889-6bb9-466d-851a-b266287e50ff"
      },
      "execution_count": null,
      "outputs": [
        {
          "output_type": "execute_result",
          "data": {
            "text/plain": [
              "50                  Data Scientist Urgent Vacancy\n",
              "74                  Data Scientist Urgent Vacancy\n",
              "157    Data Analyst Hiring Fresher and Experience\n",
              "161                 Data Scientist Urgent Vacancy\n",
              "182                    Data Scientist Recruitment\n",
              "206                    Data Scientist Recruitment\n",
              "216                    Data Scientist Recruitment\n",
              "274    Data Analyst Hiring Fresher and Experience\n",
              "364                 Medical Biller Urgent Vacancy\n",
              "371                 Medical Biller Urgent Vacancy\n",
              "426                    Medical Biller Recruitment\n",
              "432                    Medical Biller Recruitment\n",
              "433                    Medical Biller Recruitment\n",
              "436                    Medical Biller Recruitment\n",
              "437                    Medical Biller Recruitment\n",
              "452                     Hiring For Medical Biller\n",
              "455                     Hiring For Medical Biller\n",
              "Name: job_title, dtype: object"
            ]
          },
          "metadata": {},
          "execution_count": 44
        }
      ]
    },
    {
      "cell_type": "markdown",
      "source": [
        "**Above is the list of jobs offered by the company Kavya**"
      ],
      "metadata": {
        "id": "ZeYRZVFAmS4w"
      }
    },
    {
      "cell_type": "code",
      "source": [
        "epam_jobs = df['job_title'][df['company_name']=='EPAM Systems']"
      ],
      "metadata": {
        "id": "Gf11LHm9ZwGK"
      },
      "execution_count": null,
      "outputs": []
    },
    {
      "cell_type": "code",
      "source": [
        "epam_jobs"
      ],
      "metadata": {
        "colab": {
          "base_uri": "https://localhost:8080/"
        },
        "id": "WYXtmzphZ_d0",
        "outputId": "155cd668-a951-4e28-da87-1620fda6d33f"
      },
      "execution_count": null,
      "outputs": [
        {
          "output_type": "execute_result",
          "data": {
            "text/plain": [
              "29                  Senior Engineer Machine Learning\n",
              "31                     Sr. Engineer Machine Learning\n",
              "33                     Sr. Engineer Machine Learning\n",
              "37                  Senior Engineer Machine Learning\n",
              "39     Senior Engineer - Machine Learning Operations\n",
              "41       Senior Machine Learning Operations Engineer\n",
              "46     Senior Engineer - Machine Learning Operations\n",
              "51                      Senior Engineer Data Science\n",
              "57                      Senior Engineer Data Science\n",
              "64                      Senior Data Science Engineer\n",
              "75       Senior Machine Learning Operations Engineer\n",
              "103                     Senior Data Science Engineer\n",
              "151                         Senior Power BI Engineer\n",
              "188                       Senior Engineer - Big Data\n",
              "202                         Senior Big Data Engineer\n",
              "212                         Senior Power BI Engineer\n",
              "Name: job_title, dtype: object"
            ]
          },
          "metadata": {},
          "execution_count": 46
        }
      ]
    },
    {
      "cell_type": "code",
      "source": [
        "len(epam_jobs)"
      ],
      "metadata": {
        "colab": {
          "base_uri": "https://localhost:8080/"
        },
        "id": "rMAoHZBWZ8sq",
        "outputId": "9abe5cb1-e71b-485b-cd7f-a379c0a8b188"
      },
      "execution_count": null,
      "outputs": [
        {
          "output_type": "execute_result",
          "data": {
            "text/plain": [
              "16"
            ]
          },
          "metadata": {},
          "execution_count": 47
        }
      ]
    },
    {
      "cell_type": "markdown",
      "source": [
        "**EPAM Jobs has posted 16 jobs**"
      ],
      "metadata": {
        "id": "tDybQvkxmK5O"
      }
    },
    {
      "cell_type": "code",
      "source": [
        "distinct_job_titles = len(df['job_title'].unique())\n",
        "distinct_job_titles"
      ],
      "metadata": {
        "colab": {
          "base_uri": "https://localhost:8080/"
        },
        "id": "QIPchCXFZ_ED",
        "outputId": "95368012-00d6-4770-a41a-48430bbd54c3"
      },
      "execution_count": null,
      "outputs": [
        {
          "output_type": "execute_result",
          "data": {
            "text/plain": [
              "396"
            ]
          },
          "metadata": {},
          "execution_count": 48
        }
      ]
    },
    {
      "cell_type": "markdown",
      "source": [
        "**We found that there are 396 different jobs available**"
      ],
      "metadata": {
        "id": "YfWkj6mDmnT1"
      }
    },
    {
      "cell_type": "code",
      "source": [
        "Locations = {'Names': [], 'Qty': []}\n",
        "duplicates = []\n",
        "\n",
        "for i in df['location']:\n",
        "    if i in Locations['Names']:\n",
        "        duplicates.append(i)\n",
        "        index = Locations['Names'].index(i)\n",
        "        Locations['Qty'][index] += 1\n",
        "    else:\n",
        "        Locations['Names'].append(i)\n",
        "        Locations['Qty'].append(1)"
      ],
      "metadata": {
        "id": "0xBE2-bbac5c"
      },
      "execution_count": null,
      "outputs": []
    },
    {
      "cell_type": "code",
      "source": [
        "Locations"
      ],
      "metadata": {
        "colab": {
          "base_uri": "https://localhost:8080/"
        },
        "id": "UnGCEh3naO4a",
        "outputId": "3d5c192b-52d3-4068-c3e2-f44e72c1eb72"
      },
      "execution_count": null,
      "outputs": [
        {
          "output_type": "execute_result",
          "data": {
            "text/plain": [
              "{'Names': ['Bengaluru, Karnataka, India',\n",
              "  'Hyderabad, Telangana, India',\n",
              "  'Pune, Maharashtra, India'],\n",
              " 'Qty': [287, 137, 61]}"
            ]
          },
          "metadata": {},
          "execution_count": 50
        }
      ]
    },
    {
      "cell_type": "code",
      "source": [
        "labels = Locations['Names']\n",
        "sizes = Locations['Qty']\n",
        "# plt.subplots()\n",
        "explode = (0, 0.1, 0)\n",
        "plt.title = \"Job distribution by location\"\n",
        "plt.pie(sizes, labels=labels,autopct='%1.1f%%',explode=explode,shadow=True, startangle=90)\n",
        "plt.show()\n"
      ],
      "metadata": {
        "colab": {
          "base_uri": "https://localhost:8080/",
          "height": 406
        },
        "id": "agn1Gk8ebFYr",
        "outputId": "b65c9c1d-8693-4747-ca02-8ede405cd59b"
      },
      "execution_count": null,
      "outputs": [
        {
          "output_type": "display_data",
          "data": {
            "text/plain": [
              "<Figure size 640x480 with 1 Axes>"
            ],
            "image/png": "[encoded data removed]"
          },
          "metadata": {}
        }
      ]
    },
    {
      "cell_type": "markdown",
      "source": [
        "**After analyzing the pie chart we can see that most of the jobs i.e 59.2% are in Bengaluru Karnataka Region that might be because of most startups available in this region**"
      ],
      "metadata": {
        "id": "Xlv5d5AwmwG-"
      }
    },
    {
      "cell_type": "markdown",
      "source": [
        "**After analyzing the pie chart we can see that most of the jobs i.e 28.2% are in Hyderabad, Telangana Region**"
      ],
      "metadata": {
        "id": "xr4HBPO6nFNn"
      }
    },
    {
      "cell_type": "markdown",
      "source": [
        "**Then in  the pie chart we can see that most of the jobs i.e 12.6% are in Pune Region**"
      ],
      "metadata": {
        "id": "lGnsqETSnS2q"
      }
    }
  ]
}