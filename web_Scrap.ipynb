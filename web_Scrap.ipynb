{
  "cells": [
    {
      "cell_type": "markdown",
      "metadata": {
        "id": "view-in-github",
        "colab_type": "text"
      },
      "source": [
        "<a href=\"https://colab.research.google.com/github/abhishek-kakde/web_scrapping/blob/main/web_Scrap.ipynb\" target=\"_parent\"><img src=\"https://colab.research.google.com/assets/colab-badge.svg\" alt=\"Open In Colab\"/></a>"
      ]
    },
    {
      "cell_type": "code",
      "execution_count": null,
      "id": "3bdfd77e",
      "metadata": {
        "id": "3bdfd77e"
      },
      "outputs": [],
      "source": [
        "#Importing necessary libraries and selenium drivers for data extraction"
      ]
    },
    {
      "cell_type": "code",
      "execution_count": null,
      "id": "10c80825",
      "metadata": {
        "id": "10c80825"
      },
      "outputs": [],
      "source": [
        "import selenium\n",
        "import pandas as pd\n",
        "import numpy as np\n",
        "import os\n",
        "from parsel import Selector\n",
        "from time import sleep\n",
        "from selenium import webdriver\n",
        "from selenium.webdriver.chromium import service\n",
        "from selenium.webdriver.chrome.options import Options\n",
        "from selenium.webdriver.common.keys import Keys\n",
        "from selenium.webdriver.support.ui import WebDriverWait\n",
        "from selenium.webdriver.common.by import By\n",
        "import time\n"
      ]
    },
    {
      "cell_type": "code",
      "execution_count": null,
      "id": "fee5e0ef",
      "metadata": {
        "id": "fee5e0ef"
      },
      "outputs": [],
      "source": [
        "#inserting our desired filtered url, Here we are using linked in filters as following:\n",
        "#1. Posted from Past Week\n",
        "#2.Employement type  - Full Time\n",
        "#3.  Experience Level  - Entry Level, Associate\n",
        "#4. Jobs in 'Data Science'\n",
        "#5. Location - 'banglore,pune,hyderabad'"
      ]
    },
    {
      "cell_type": "code",
      "execution_count": null,
      "id": "a1fbfd12",
      "metadata": {
        "id": "a1fbfd12"
      },
      "outputs": [],
      "source": [
        "url = \"https://www.linkedin.com/jobs/search?keywords=Data%20Science&location=India&locationId=&geoId=102713980&f_TPR=r604800&f_PP=105214831%2C105556991%2C103671728&f_E=2%2C3&position=1&pageNum=0\""
      ]
    },
    {
      "cell_type": "code",
      "execution_count": null,
      "id": "c96fa1b7",
      "metadata": {
        "id": "c96fa1b7"
      },
      "outputs": [],
      "source": [
        "# We need to run this below command for more than 2 times as linkedin sometimes direct us to login page"
      ]
    },
    {
      "cell_type": "code",
      "execution_count": null,
      "id": "3017b733",
      "metadata": {
        "id": "3017b733"
      },
      "outputs": [],
      "source": [
        "driver = webdriver.Chrome()\n",
        "driver.get(url)\n",
        "driver.implicitly_wait(10)"
      ]
    },
    {
      "cell_type": "code",
      "execution_count": null,
      "id": "ded5495a",
      "metadata": {
        "id": "ded5495a"
      },
      "outputs": [],
      "source": [
        "#After this command using chrome driver selenium automaticall\n",
        "#opens the browser, and opens the link using get(url) command"
      ]
    },
    {
      "cell_type": "code",
      "execution_count": null,
      "id": "47f95395",
      "metadata": {
        "id": "47f95395"
      },
      "outputs": [],
      "source": [
        "n =  driver.find_elements(By.CLASS_NAME, 'results-context-header')[0].text"
      ]
    },
    {
      "cell_type": "code",
      "execution_count": null,
      "id": "bd3e00ac",
      "metadata": {
        "id": "bd3e00ac"
      },
      "outputs": [],
      "source": [
        "#Here we are defining a function for extracting number of jobs available as per our search results"
      ]
    },
    {
      "cell_type": "code",
      "execution_count": null,
      "id": "403aac40",
      "metadata": {
        "id": "403aac40"
      },
      "outputs": [],
      "source": [
        "import re\n",
        "def job_stats(n):\n",
        "    try :\n",
        "        parts = re.split(r'\\+', n)\n",
        "        number_of_jobs = int(parts[0].replace(\",\", \"\"))\n",
        "    except:\n",
        "        parts = re.split(r'\\ ', n)\n",
        "        number_of_jobs = int(parts[0])\n",
        "\n",
        "    return number_of_jobs\n",
        "\n"
      ]
    },
    {
      "cell_type": "code",
      "execution_count": null,
      "id": "79fb01d6",
      "metadata": {
        "id": "79fb01d6"
      },
      "outputs": [],
      "source": [
        "number_of_jobs = job_stats(n)"
      ]
    },
    {
      "cell_type": "code",
      "execution_count": null,
      "id": "0fea0381",
      "metadata": {
        "id": "0fea0381"
      },
      "outputs": [],
      "source": [
        "#We got the output of number of jobs available"
      ]
    },
    {
      "cell_type": "code",
      "execution_count": null,
      "id": "27761e1b",
      "metadata": {
        "scrolled": true,
        "id": "27761e1b",
        "outputId": "5e048849-daa8-41a8-c86e-cd694be1731b"
      },
      "outputs": [
        {
          "name": "stdout",
          "output_type": "stream",
          "text": [
            "Total number of jobs in market for Data Science in desired location from past month are  489\n"
          ]
        }
      ],
      "source": [
        "print('Total number of jobs in market for Data Science in desired location from past month are ', number_of_jobs)"
      ]
    },
    {
      "cell_type": "code",
      "execution_count": null,
      "id": "5b8a6606",
      "metadata": {
        "id": "5b8a6606"
      },
      "outputs": [],
      "source": [
        "#Here we are using selenium for automatic scrolling untill we get 'see more jobs' button and\n",
        "#we use click command to click the button to view entire list of jobs as mentioned above\n",
        "#Selenium will keep on scrolling till it reaches the end of result"
      ]
    },
    {
      "cell_type": "code",
      "execution_count": null,
      "id": "da7c5ec4",
      "metadata": {
        "scrolled": true,
        "id": "da7c5ec4"
      },
      "outputs": [],
      "source": [
        "i = 12\n",
        "while i<= number_of_jobs/12:\n",
        "    driver.execute_script(\"window.scrollTo(0, document.body.scrollHeight);\")\n",
        "    i =i + 12\n",
        "    try:\n",
        "        x = driver.find_element(By.XPATH, '//button[@aria-label=\"See more jobs\"]').click()\n",
        "        y = driver.find_element(By.XPATH, \"/html/body/div[4]/button\").click()\n",
        "        z= driver.find_element(By.XPATH, \"/html/body/div[3]/button\").click()\n",
        "        w = driver.find_element(By.XPATH,\"/html/body/div[3]/button\").click()\n",
        "        time.sleep(2)\n",
        "\n",
        "    except:\n",
        "        pass\n",
        "        time.sleep(2)"
      ]
    },
    {
      "cell_type": "code",
      "execution_count": null,
      "id": "20da37aa",
      "metadata": {
        "id": "20da37aa"
      },
      "outputs": [],
      "source": [
        "#We have created an empty lists to store our extracted results"
      ]
    },
    {
      "cell_type": "code",
      "execution_count": null,
      "id": "68a0b329",
      "metadata": {
        "id": "68a0b329"
      },
      "outputs": [],
      "source": [
        "company_name = []\n",
        "job_title = []\n",
        "location = []\n",
        "\n"
      ]
    },
    {
      "cell_type": "code",
      "execution_count": null,
      "id": "051416b3",
      "metadata": {
        "id": "051416b3"
      },
      "outputs": [],
      "source": [
        "for j in range(number_of_jobs):\n",
        "    try:\n",
        "        company = driver.find_elements(By.CLASS_NAME, 'base-search-card__subtitle')[j].text\n",
        "        company_name.append(company)\n",
        "        title = driver.find_elements(By.CLASS_NAME, 'base-search-card__title')[j].text\n",
        "        job_title.append(title)\n",
        "        loc = driver.find_elements(By.CLASS_NAME, 'job-search-card__location')[j].text\n",
        "        location.append(loc)\n",
        "\n",
        "    except:\n",
        "        pass"
      ]
    },
    {
      "cell_type": "code",
      "execution_count": null,
      "id": "ecdb6557",
      "metadata": {
        "id": "ecdb6557"
      },
      "outputs": [],
      "source": [
        "dict1 = {'company_name' :company_name, 'job_title' :job_title, 'location': location,'JOB_PORTAL':'LINKEDIN' }"
      ]
    },
    {
      "cell_type": "code",
      "execution_count": null,
      "id": "f235b770",
      "metadata": {
        "id": "f235b770"
      },
      "outputs": [],
      "source": [
        "linkedin_data =pd.DataFrame(dict1)"
      ]
    },
    {
      "cell_type": "code",
      "execution_count": null,
      "id": "6664e2ec",
      "metadata": {
        "id": "6664e2ec"
      },
      "outputs": [],
      "source": [
        "#exporting over csv file to drive or local"
      ]
    },
    {
      "cell_type": "code",
      "execution_count": null,
      "id": "da65ec07",
      "metadata": {
        "id": "da65ec07"
      },
      "outputs": [],
      "source": [
        "import os"
      ]
    },
    {
      "cell_type": "code",
      "execution_count": null,
      "id": "1e7fff85",
      "metadata": {
        "id": "1e7fff85"
      },
      "outputs": [],
      "source": [
        "linkedin_data.to_csv(r'C:\\Users\\hp\\Desktop\\AB\\linkedin_jobs.csv')"
      ]
    }
  ],
  "metadata": {
    "kernelspec": {
      "display_name": "Python 3 (ipykernel)",
      "language": "python",
      "name": "python3"
    },
    "language_info": {
      "codemirror_mode": {
        "name": "ipython",
        "version": 3
      },
      "file_extension": ".py",
      "mimetype": "text/x-python",
      "name": "python",
      "nbconvert_exporter": "python",
      "pygments_lexer": "ipython3",
      "version": "3.11.3"
    },
    "colab": {
      "provenance": [],
      "include_colab_link": true
    }
  },
  "nbformat": 4,
  "nbformat_minor": 5
}